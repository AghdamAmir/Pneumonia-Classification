{
  "cells": [
    {
      "cell_type": "markdown",
      "metadata": {
        "id": "ZMDgebDKUdNU"
      },
      "source": [
        "# Importing Required Libraries"
      ]
    },
    {
      "cell_type": "code",
      "execution_count": 1,
      "metadata": {
        "id": "GurhGdSmTyF-"
      },
      "outputs": [],
      "source": [
        "import os\n",
        "import numpy as np\n",
        "from PIL import Image\n",
        "from sklearn.model_selection import StratifiedKFold\n",
        "import tensorflow as tf\n",
        "import tensorflow.keras.backend as K\n",
        "import keras\n",
        "%matplotlib inline\n",
        "from matplotlib import pyplot as plt"
      ]
    },
    {
      "cell_type": "markdown",
      "metadata": {
        "id": "7MfnaPf9Vzvv"
      },
      "source": [
        "# Important Parameters"
      ]
    },
    {
      "cell_type": "code",
      "execution_count": 2,
      "metadata": {
        "id": "70blDLF8VzWy"
      },
      "outputs": [],
      "source": [
        "random_state=42\n",
        "input_shape=(256, 256, 3)\n",
        "train_batch_size=32\n",
        "val_batch_size=32\n",
        "train_lr=0.001\n",
        "finetune_lr=0.00001\n",
        "train_epochs=7\n",
        "tune_epochs=5\n",
        "es_patience=4\n",
        "k_fold=5"
      ]
    },
    {
      "cell_type": "markdown",
      "metadata": {
        "id": "dMedt4KVTp8R"
      },
      "source": [
        "# Dataset Preparation"
      ]
    },
    {
      "cell_type": "code",
      "execution_count": 3,
      "metadata": {
        "id": "hJl7tJxnK6jk"
      },
      "outputs": [],
      "source": [
        "!wget -q https://github.com/hasibzunair/synthetic-covid-cxr-dataset/releases/download/v0.1/G_NC.zip\n",
        "!wget -q https://github.com/hasibzunair/synthetic-covid-cxr-dataset/releases/download/v0.1/G_PC.zip"
      ]
    },
    {
      "cell_type": "code",
      "execution_count": 4,
      "metadata": {
        "id": "o1Hn7Oo_MKOV"
      },
      "outputs": [],
      "source": [
        "!unzip -q G_NC.zip\n",
        "!unzip -q G_PC.zip"
      ]
    },
    {
      "cell_type": "code",
      "execution_count": 5,
      "metadata": {
        "id": "KT3mgFxoMZDr"
      },
      "outputs": [],
      "source": [
        "!rm G_NC.zip\n",
        "!rm G_PC.zip"
      ]
    },
    {
      "cell_type": "code",
      "execution_count": 6,
      "metadata": {
        "id": "7-UkimigVhM4"
      },
      "outputs": [],
      "source": [
        "normal_cases = os.listdir('G1')\n",
        "pneumonia_cases = os.listdir('G2')"
      ]
    },
    {
      "cell_type": "code",
      "execution_count": 7,
      "metadata": {
        "id": "5t5Vg7EGktlZ"
      },
      "outputs": [],
      "source": [
        "normal_cases = ['G1/' + img for img in normal_cases]\n",
        "pneumonia_cases = ['G2/' + img for img in pneumonia_cases]"
      ]
    },
    {
      "cell_type": "code",
      "execution_count": 8,
      "metadata": {
        "id": "kr-4pCoMfKLP"
      },
      "outputs": [],
      "source": [
        "normal_labels = [0]*len(normal_cases)\n",
        "pneumonia_labels = [1]*len(pneumonia_cases)"
      ]
    },
    {
      "cell_type": "code",
      "execution_count": 9,
      "metadata": {
        "id": "_SC5qFTqe7o3"
      },
      "outputs": [],
      "source": [
        "dataset = np.concatenate([normal_cases, pneumonia_cases])\n",
        "labels = np.concatenate([normal_labels, pneumonia_labels])"
      ]
    },
    {
      "cell_type": "markdown",
      "metadata": {
        "id": "7YYjnBr4UhB2"
      },
      "source": [
        "# Data Exploration"
      ]
    },
    {
      "cell_type": "code",
      "execution_count": 10,
      "metadata": {
        "id": "gfz1c-5TMjFh",
        "colab": {
          "base_uri": "https://localhost:8080/"
        },
        "outputId": "a55da65c-ab7e-481a-b194-d42089c1ab18"
      },
      "outputs": [
        {
          "output_type": "stream",
          "name": "stdout",
          "text": [
            "Number of Normal Cases:  16537\n",
            "Number of pneumonia Cases:  4758\n",
            "Number of Total Cases:  21295\n"
          ]
        }
      ],
      "source": [
        "print(\"Number of Normal Cases: \", len(normal_cases))\n",
        "print(\"Number of pneumonia Cases: \", len(pneumonia_cases))\n",
        "print(\"Number of Total Cases: \", len(normal_cases)+len(pneumonia_cases))"
      ]
    },
    {
      "cell_type": "code",
      "execution_count": 11,
      "metadata": {
        "id": "dR5E0q0KU53m",
        "colab": {
          "base_uri": "https://localhost:8080/"
        },
        "outputId": "a0fd117f-c9ac-40bb-d6eb-d08776d31597"
      },
      "outputs": [
        {
          "output_type": "stream",
          "name": "stdout",
          "text": [
            "Percentage of Normal Cases:  77.6567269312045\n",
            "Number of pneumonia Cases:  22.34327306879549\n",
            "Ration of pneumonia to Normal Cases:  0.287718449537401\n"
          ]
        }
      ],
      "source": [
        "print(\"Percentage of Normal Cases: \", len(normal_cases)*100/(len(normal_cases)+len(pneumonia_cases)))\n",
        "print(\"Number of pneumonia Cases: \", len(pneumonia_cases)*100/(len(normal_cases)+len(pneumonia_cases)))\n",
        "print(\"Ration of pneumonia to Normal Cases: \", len(pneumonia_cases)/len(normal_cases))"
      ]
    },
    {
      "cell_type": "code",
      "execution_count": 12,
      "metadata": {
        "id": "R3ocvqlhNIsl"
      },
      "outputs": [],
      "source": [
        "np.random.seed(random_state)\n",
        "rand_index = np.random.randint(0, len(normal_cases))\n",
        "norm_rand_image = Image.open(normal_cases[rand_index])\n",
        "norm_rand_image = np.array(norm_rand_image)"
      ]
    },
    {
      "cell_type": "code",
      "execution_count": 13,
      "metadata": {
        "id": "HnapXaWqPNrR"
      },
      "outputs": [],
      "source": [
        "rand_index = np.random.randint(0, len(pneumonia_cases))\n",
        "pne_rand_image = Image.open(pneumonia_cases[rand_index])\n",
        "pne_rand_image = np.array(pne_rand_image)"
      ]
    },
    {
      "cell_type": "code",
      "execution_count": 14,
      "metadata": {
        "id": "pDPoZd5LO9Ez",
        "colab": {
          "base_uri": "https://localhost:8080/"
        },
        "outputId": "f4aeb0a9-9158-4124-89f4-fd19bc9cba90"
      },
      "outputs": [
        {
          "output_type": "stream",
          "name": "stdout",
          "text": [
            "(256, 256, 3) (256, 256, 3)\n"
          ]
        }
      ],
      "source": [
        "print(norm_rand_image.shape, pne_rand_image.shape)"
      ]
    },
    {
      "cell_type": "code",
      "execution_count": 15,
      "metadata": {
        "id": "T98xmpBLPfwo",
        "colab": {
          "base_uri": "https://localhost:8080/"
        },
        "outputId": "9a312b46-5809-4f09-9187-f3df72c9c5ae"
      },
      "outputs": [
        {
          "output_type": "stream",
          "name": "stdout",
          "text": [
            "255\n",
            "0\n"
          ]
        }
      ],
      "source": [
        "print(norm_rand_image.max())\n",
        "print(norm_rand_image.min())"
      ]
    },
    {
      "cell_type": "code",
      "execution_count": 16,
      "metadata": {
        "id": "7AD6SHGUPk8q",
        "colab": {
          "base_uri": "https://localhost:8080/"
        },
        "outputId": "8114c594-7418-4162-d1e4-7001ebc46dae"
      },
      "outputs": [
        {
          "output_type": "stream",
          "name": "stdout",
          "text": [
            "230\n",
            "0\n"
          ]
        }
      ],
      "source": [
        "print(pne_rand_image.max())\n",
        "print(pne_rand_image.min())"
      ]
    },
    {
      "cell_type": "code",
      "execution_count": 17,
      "metadata": {
        "id": "KZOuMDERPyhO",
        "colab": {
          "base_uri": "https://localhost:8080/",
          "height": 287
        },
        "outputId": "87377c97-09c3-4862-8bc1-9d504b3282f3"
      },
      "outputs": [
        {
          "output_type": "execute_result",
          "data": {
            "text/plain": [
              "<matplotlib.colorbar.Colorbar at 0x7fcdee11d9d0>"
            ]
          },
          "metadata": {},
          "execution_count": 17
        },
        {
          "output_type": "display_data",
          "data": {
            "text/plain": [
              "<Figure size 432x288 with 2 Axes>"
            ],
            "image/png": "[encoded data removed]"
          },
          "metadata": {
            "needs_background": "light"
          }
        }
      ],
      "source": [
        "plt.imshow(norm_rand_image)\n",
        "plt.colorbar()"
      ]
    },
    {
      "cell_type": "markdown",
      "metadata": {
        "id": "GAUv9biLhHZ2"
      },
      "source": [
        "# Transfer Learning"
      ]
    },
    {
      "cell_type": "markdown",
      "metadata": {
        "id": "6lHHDstXrfV9"
      },
      "source": [
        "## Custom Generator"
      ]
    },
    {
      "cell_type": "code",
      "execution_count": 18,
      "metadata": {
        "id": "5qYZAl9Pi2a9"
      },
      "outputs": [],
      "source": [
        "class DataGenerator(tf.keras.utils.Sequence):\n",
        "    'Custom Generator to read data from disk for a given batch'\n",
        "    def __init__(self, list_images, list_labels, batch_size=32, normalize=True,\n",
        "                 augment=False, dim=(256,256), n_channels=3, shuffle=False):\n",
        "        'Initialization'\n",
        "        self.dim = dim\n",
        "        self.batch_size = batch_size\n",
        "        self.labels = list_labels\n",
        "        self.list_IDs = list_images\n",
        "        self.n_channels = n_channels\n",
        "        self.shuffle = shuffle\n",
        "        self.normalize = normalize\n",
        "        self.augment = augment\n",
        "        self.flip = tf.keras.layers.RandomFlip(\"horizontal\")\n",
        "        self.on_epoch_end()\n",
        "\n",
        "    def load_image(self, index):\n",
        "        'Reades the image as a numpy array given the name'\n",
        "        infilename = self.list_IDs[index]\n",
        "        img = Image.open(infilename)\n",
        "        data = np.asarray(img)\n",
        "        return data\n",
        "    \n",
        "    \n",
        "    def on_epoch_end(self):\n",
        "        'Updates indexes after each epoch'\n",
        "        self.indexes = np.arange(len(self.list_IDs))\n",
        "        if self.shuffle == True:\n",
        "            np.random.shuffle(self.indexes)\n",
        "    \n",
        "    def __len__(self):\n",
        "        'Denotes the number of batches per epoch'\n",
        "        return int(np.floor(len(self.list_IDs) / self.batch_size))\n",
        "\n",
        "    def __getitem__(self, index):\n",
        "        'Generate one batch of data'\n",
        "        # Generate indexes of the batch\n",
        "        indexes = self.indexes[index*self.batch_size:(index+1)*self.batch_size]  \n",
        "\n",
        "        # Generate data\n",
        "        X, y = self.__data_generation(indexes)\n",
        "\n",
        "        # Normalize and Zero Center the data\n",
        "        if self.normalize:\n",
        "            X = (X / 255.0) - 0.5\n",
        "\n",
        "        if self.augment:\n",
        "            X = self.flip(X).numpy()\n",
        "\n",
        "        return X, y\n",
        "\n",
        "    def __data_generation(self, list_IDs_temp):\n",
        "        'Generates data containing batch_size samples' # X : (n_samples, *dim, n_channels)\n",
        "        # Initialization\n",
        "        X = np.empty((self.batch_size, *self.dim, self.n_channels))\n",
        "        y = np.empty((self.batch_size), dtype=int)\n",
        "\n",
        "        # Generate data\n",
        "        for i, ID in enumerate(list_IDs_temp):\n",
        "            # Store sample\n",
        "            X[i,] = self.load_image(ID)\n",
        "\n",
        "            # Store class\n",
        "            y[i] = self.labels[ID]\n",
        "\n",
        "        return X, y"
      ]
    },
    {
      "cell_type": "markdown",
      "metadata": {
        "id": "nQZP-5xwrivq"
      },
      "source": [
        "## Utility Functions"
      ]
    },
    {
      "cell_type": "code",
      "execution_count": 19,
      "metadata": {
        "id": "07NbfxGT40-P"
      },
      "outputs": [],
      "source": [
        "def get_model(input_shape):\n",
        "  'Returns the baseline model'\n",
        "  model = tf.keras.applications.Xception(\n",
        "    include_top=False,\n",
        "    weights=\"imagenet\",\n",
        "    input_shape=input_shape)\n",
        "  return model"
      ]
    },
    {
      "cell_type": "code",
      "execution_count": 20,
      "metadata": {
        "id": "NIVFv1Lr57Xs"
      },
      "outputs": [],
      "source": [
        "def freeze_model(model):\n",
        "  'Returns the freezed model with added layers for initial training'\n",
        "  inputs = tf.keras.Input(shape=model.input_shape[1:])\n",
        "  x = model(inputs, training=False)\n",
        "  # Convert features of shape `base_model.output_shape[1:]` to vectors\n",
        "  x = tf.keras.layers.GlobalAveragePooling2D()(x)\n",
        "  x = tf.keras.layers.Dense(1028)(x)\n",
        "  x = tf.keras.layers.Dropout(0.5)(x)\n",
        "  # A Dense classifier with a single unit (binary classification)\n",
        "  outputs = tf.keras.layers.Dense(2, activation='softmax')(x)\n",
        "  model = tf.keras.Model(inputs, outputs)\n",
        "  return model"
      ]
    },
    {
      "cell_type": "code",
      "execution_count": 21,
      "metadata": {
        "id": "H6O9JWeIW7z8"
      },
      "outputs": [],
      "source": [
        "def unfreeze_model(model):\n",
        "    'Returns the unfreezed model with added layers for initial training'\n",
        "    for layer in model.layers:\n",
        "        # We don't change the parameters of BatchNorm layers during fine-tuning\n",
        "        if not isinstance(layer, tf.keras.layers.BatchNormalization):\n",
        "            layer.trainable = True"
      ]
    },
    {
      "cell_type": "code",
      "execution_count": 22,
      "metadata": {
        "id": "J_QfpSXCaR7K"
      },
      "outputs": [],
      "source": [
        "def get_class_weights(labels):\n",
        "  class_labels = np.unique(labels)\n",
        "  num_classes = len(class_labels)\n",
        "  weights = [len(labels)/(num_classes*np.count_nonzero(labels==i)) for i in range(0, num_classes)]\n",
        "  weights = np.array(weights) / (max(weights) - min(weights))\n",
        "  return dict(enumerate(weights))"
      ]
    },
    {
      "cell_type": "markdown",
      "source": [
        "## Custom Metrics"
      ],
      "metadata": {
        "id": "l4rWl_tpygyr"
      }
    },
    {
      "cell_type": "code",
      "source": [
        "def recall(y_true, y_pred): \n",
        "    true_positives = K.sum(K.round(K.clip(y_true * y_pred, 0, 1)))\n",
        "    possible_positives = K.sum(K.round(K.clip(y_true, 0, 1)))\n",
        "    return true_positives / (possible_positives + K.epsilon())"
      ],
      "metadata": {
        "id": "HvquwusRykFu"
      },
      "execution_count": 23,
      "outputs": []
    },
    {
      "cell_type": "code",
      "source": [
        "def precision(y_true, y_pred):\n",
        "    true_positives = K.sum(K.round(K.clip(y_true * y_pred, 0, 1)))\n",
        "    predicted_positives = K.sum(K.round(K.clip(y_pred, 0, 1)))\n",
        "    return true_positives / (predicted_positives + K.epsilon())"
      ],
      "metadata": {
        "id": "wb-cAc6_zezQ"
      },
      "execution_count": 24,
      "outputs": []
    },
    {
      "cell_type": "code",
      "source": [
        "def sparse_categorical_accuracy(y_true, y_pred):\n",
        "    # flatten y_true in case it's in shape (num_samples, 1) instead of (num_samples,)\n",
        "    return K.cast(K.equal(K.flatten(y_true),\n",
        "                          K.cast(K.argmax(y_pred, axis=-1), K.floatx())),\n",
        "                          K.floatx())"
      ],
      "metadata": {
        "id": "ehLfEwnE95hf"
      },
      "execution_count": 31,
      "outputs": []
    },
    {
      "cell_type": "markdown",
      "metadata": {
        "id": "6STOUcb1rlg_"
      },
      "source": [
        "## Important Varriables"
      ]
    },
    {
      "cell_type": "code",
      "execution_count": 25,
      "metadata": {
        "id": "SCh4YZ1KXuZE"
      },
      "outputs": [],
      "source": [
        "# Cross Validation Splitter\n",
        "skf = StratifiedKFold(n_splits=k_fold, shuffle=True, random_state=random_state)"
      ]
    },
    {
      "cell_type": "code",
      "execution_count": 26,
      "metadata": {
        "id": "wc_hmFgZsoQX"
      },
      "outputs": [],
      "source": [
        "es = tf.keras.callbacks.EarlyStopping(\n",
        "    monitor=\"val_loss\",\n",
        "    min_delta=0.001,\n",
        "    patience=es_patience,\n",
        "    verbose=1,\n",
        "    mode=\"min\")\n",
        "\n",
        "mc = tf.keras.callbacks.ModelCheckpoint(\n",
        "    filepath='model.{epoch:02d}-{val_loss:.2f}.h5',\n",
        "    save_weights_only=False,\n",
        "    monitor='val_loss',\n",
        "    mode='min',\n",
        "    save_best_only=True)\n",
        "\n",
        "cb = [mc, es]"
      ]
    },
    {
      "cell_type": "code",
      "execution_count": 27,
      "metadata": {
        "id": "TUDB59oArvmp"
      },
      "outputs": [],
      "source": [
        "# Varriables for storing model history during train and finetune stages\n",
        "finetune_history = []\n",
        "train_history = []\n",
        "\n",
        "# Varriables for storing validation history\n",
        "fold_acc_history = []\n",
        "fold_loss_history = []\n",
        "fold_recall_history = []\n",
        "fold_precision_history = []"
      ]
    },
    {
      "cell_type": "code",
      "execution_count": null,
      "metadata": {
        "id": "q3Nc0qJ0gb4I",
        "colab": {
          "base_uri": "https://localhost:8080/"
        },
        "outputId": "b818affe-2e2f-46dd-aef7-eeab1b41bbfc"
      },
      "outputs": [
        {
          "output_type": "stream",
          "name": "stdout",
          "text": [
            "******************* Fold-0 Train *******************\n",
            "\n",
            "Starting Initial Training..\n",
            "Epoch 1/7\n",
            "408/532 [======================>.......] - ETA: 1:40 - loss: 0.7278 - sparse_categorical_accuracy: 0.3909 - recall: 0.2255 - precision: 0.2245"
          ]
        }
      ],
      "source": [
        "for i, (train_indexes, test_indexes) in enumerate(skf.split(dataset, labels)):\n",
        "  print(f\"******************* Fold-{i+1} Train *******************\\n\")\n",
        "  \n",
        "  # Splitting the train/val data for a given fold\n",
        "  train_data, validation_data = dataset[train_indexes], dataset[test_indexes]\n",
        "  train_labels, validation_labels = labels[train_indexes], labels[test_indexes]\n",
        "\n",
        "  # Defining train/val Generator\n",
        "  train_generator = DataGenerator(train_data, train_labels, train_batch_size,\n",
        "                                  normalize=True, augment=True, dim=input_shape[:-1],\n",
        "                                  n_channels=input_shape[-1])\n",
        "  validation_generator = DataGenerator(validation_data, validation_labels, val_batch_size, normalize=True,\n",
        "                                       dim=input_shape[:-1], n_channels=input_shape[-1])\n",
        "  \n",
        "  # Class Weight Calculation to handle data imbalance\n",
        "  class_weights = get_class_weights(train_labels)\n",
        "\n",
        "  print(\"Starting Initial Training..\")\n",
        "  # Initial Training\n",
        "  model = get_model(input_shape) \n",
        "  model = freeze_model(model)\n",
        "  model.compile(optimizer=tf.keras.optimizers.Adam(train_lr),\n",
        "              loss=tf.keras.losses.SparseCategoricalCrossentropy(from_logits=False),\n",
        "              metrics=[sparse_categorical_accuracy, recall, precision])\n",
        "  t_hist = model.fit(train_generator, validation_data=validation_generator, epochs=train_epochs,\n",
        "            verbose=1, class_weight=class_weights, callbacks=cb)\n",
        "  \n",
        "  # Storing History\n",
        "  train_history.append(t_hist)\n",
        "\n",
        "  print(\"Starting Fine Tuning..\")\n",
        "  model = unfreeze_model(model)\n",
        "  model.compile(optimizer=tf.keras.optimizers.Adam(finetune_lr),\n",
        "              loss=tf.keras.losses.SparseCategoricalCrossentropy(from_logits=False),\n",
        "              metrics=[sparse_categorical_accuracy, recall, precision])\n",
        "  f_hist = model.fit(train_generator, validation_data=validation_generator, epochs=tune_epochs,\n",
        "            verbose=1, class_weight=class_weights, callbacks=cb)\n",
        "  \n",
        "  # Storing History\n",
        "  finetune_history.append(f_hist)\n",
        "  fold_acc_history.append(f_hist.history['val_acc'])\n",
        "  fold_loss_history.append(f_hist.history['val_loss'])\n",
        "  fold_recall_history.append(f_hist.history['val_recall'])\n",
        "  fold_precision_history.append(f_hist.history['val_recall'])\n",
        "\n"
      ]
    },
    {
      "cell_type": "code",
      "source": [
        "# K-Fold Cross Validation Results \n",
        "print(\"Validation Accuracy: %.2f%% (+/- %.2f%%)\" % (np.mean(fold_acc_history), np.std(fold_acc_history)))\n",
        "print(\"Validation Loss: %.2f%% (+/- %.2f%%)\" % (np.mean(fold_loss_history), np.std(fold_loss_history)))"
      ],
      "metadata": {
        "id": "T_pXE6VU60bx"
      },
      "execution_count": null,
      "outputs": []
    },
    {
      "cell_type": "code",
      "execution_count": null,
      "metadata": {
        "id": "Cd_YOiq8vHlk"
      },
      "outputs": [],
      "source": [
        "for i in range(0, len(k_fold)):\n",
        "    train_acc = np.append(train_history[i].history['acc'], finetune_history[i].history['acc'])\n",
        "    val_acc = np.append(train_history[i].history['val_acc'], finetune_history[i].history['val_acc'])\n",
        "    plt.plot(train_acc)\n",
        "    plt.plot(val_acc)\n",
        "    plt.title(f'Model Accuracy for Fold {i+1}')\n",
        "    plt.ylabel('accuracy')\n",
        "    plt.xlabel('epoch')\n",
        "    plt.xticks(np.arange(1, len(train_acc)+1))\n",
        "    plt.legend(['train', 'val'], loc='upper left')\n",
        "    plt.show()\n",
        "\n",
        "    train_acc = np.append(train_history[i].history['loss'], finetune_history[i].history['loss'])\n",
        "    val_acc = np.append(train_history[i].history['val_loss'], finetune_history[i].history['val_loss'])\n",
        "    plt.plot(train_acc)\n",
        "    plt.plot(val_acc)\n",
        "    plt.title(f'Model Loss for Fold {i+1}')\n",
        "    plt.ylabel('loss')\n",
        "    plt.xlabel('epoch')\n",
        "    plt.xticks(np.arange(1, len(train_acc)+1))\n",
        "    plt.legend(['train', 'val'], loc='upper left')\n",
        "    plt.show()"
      ]
    },
    {
      "cell_type": "code",
      "execution_count": null,
      "metadata": {
        "id": "AC0izMnMzsI-"
      },
      "outputs": [],
      "source": []
    }
  ],
  "metadata": {
    "accelerator": "GPU",
    "colab": {
      "collapsed_sections": [],
      "provenance": []
    },
    "gpuClass": "standard",
    "kernelspec": {
      "display_name": "Python 3",
      "name": "python3"
    },
    "language_info": {
      "name": "python"
    }
  },
  "nbformat": 4,
  "nbformat_minor": 0
}